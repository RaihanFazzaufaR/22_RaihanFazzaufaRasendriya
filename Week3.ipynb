{
  "nbformat": 4,
  "nbformat_minor": 0,
  "metadata": {
    "colab": {
      "provenance": [],
      "authorship_tag": "ABX9TyOVlJp8wWRZwYWzm0Z4Twhz",
      "include_colab_link": true
    },
    "kernelspec": {
      "name": "python3",
      "display_name": "Python 3"
    },
    "language_info": {
      "name": "python"
    }
  },
  "cells": [
    {
      "cell_type": "markdown",
      "metadata": {
        "id": "view-in-github",
        "colab_type": "text"
      },
      "source": [
        "<a href=\"https://colab.research.google.com/github/RaihanFazzaufaR/22_RaihanFazzaufaRasendriya/blob/main/Week3.ipynb\" target=\"_parent\"><img src=\"https://colab.research.google.com/assets/colab-badge.svg\" alt=\"Open In Colab\"/></a>"
      ]
    },
    {
      "cell_type": "code",
      "execution_count": null,
      "metadata": {
        "id": "fCyyNuWIdlRo"
      },
      "outputs": [],
      "source": [
        "from google.colab import drive\n",
        "drive.mount('/content/drive')"
      ]
    },
    {
      "cell_type": "code",
      "source": [
        "import cv2 as cv\n",
        "from google.colab.patches import cv2_imshow\n",
        "from skimage import io\n",
        "import matplotlib.pyplot as plt\n",
        "import numpy as np"
      ],
      "metadata": {
        "id": "GolC7EuzYDKT"
      },
      "execution_count": null,
      "outputs": []
    },
    {
      "cell_type": "code",
      "source": [
        "print(' Mengubah tingkat kecerahan citra ')\n",
        "print('----------------------------------')\n",
        "try:\n",
        "    brightness = int(input('Masukkan nilai kecerahan: '))\n",
        "except ValueError:\n",
        "    print('Error, not a number')\n",
        "\n",
        "original = cv.imread('/content/drive/MyDrive/Images/female.tiff')\n",
        "brightness_image = np.zeros(original.shape, original.dtype)\n",
        "\n",
        "# akses per piksel\n",
        "for y in range(original.shape[0]):\n",
        "    for x in range(original.shape[1]):\n",
        "        for c in range(original.shape[2]):\n",
        "            brightness_image[y,x,c] = np.clip(original[y,x,c] + brightness, 0, 255)\n",
        "\n",
        "# cara simple tanpa for loop\n",
        "#brightness_image = cv.converScaleAbs(original, beta=brightness)\n",
        "\n",
        "final_frame = cv.hconcat((original, brightness_image))\n",
        "cv2_imshow(final_frame)"
      ],
      "metadata": {
        "id": "UtDK5wAeYKTe"
      },
      "execution_count": null,
      "outputs": []
    },
    {
      "cell_type": "markdown",
      "source": [
        "# **Tugas Praktikum**\n"
      ],
      "metadata": {
        "id": "P8dwpax5YCLq"
      }
    },
    {
      "cell_type": "markdown",
      "source": [
        "1. Implementasikan inverse citra pada Google Colaboratory menggunakan formula yang terdapat pada bagian Ulasan Teori, sehingga menghasilkan keluaran seperti berikut:"
      ],
      "metadata": {
        "id": "ZHdYRQIMYbQP"
      }
    },
    {
      "cell_type": "code",
      "source": [],
      "metadata": {
        "id": "Y_cPAHz0Ynwj"
      },
      "execution_count": null,
      "outputs": []
    },
    {
      "cell_type": "markdown",
      "source": [
        "2. Implementasikan transformasi contrast pada Google Colaboratory menggunakan\n",
        "formula yang terdapat pada bagian Ulasan Teori untuk kontras, sehingga\n",
        "menghasilkan keluaran seperti berikut:"
      ],
      "metadata": {
        "id": "z_oT5ZNZYrOX"
      }
    },
    {
      "cell_type": "code",
      "source": [],
      "metadata": {
        "id": "5L0IntNlZKfw"
      },
      "execution_count": null,
      "outputs": []
    },
    {
      "cell_type": "markdown",
      "source": [
        "3. Implementasikan transformasi logarithmic brightness pada Google Colaboratory\n",
        "menggunakan formula yang terdapat pada bagian Ulasan Teori untuk transformasi\n",
        "log, sehingga menghasilkan keluaran seperti berikut:"
      ],
      "metadata": {
        "id": "7C3ZiZrrYu0b"
      }
    },
    {
      "cell_type": "code",
      "source": [],
      "metadata": {
        "id": "6v3NwtfvZLAm"
      },
      "execution_count": null,
      "outputs": []
    },
    {
      "cell_type": "markdown",
      "source": [
        "4. Implementasikan transformasi grayscale menggunakan metode averaging, lightness, dan luminance pada Google Colaboratory menggunakan formula yang terdapat pada bagian Ulasan Teori, sehingga menghasilkan keluaran seperti berikut:"
      ],
      "metadata": {
        "id": "yKBjHAXVY7j4"
      }
    },
    {
      "cell_type": "code",
      "source": [],
      "metadata": {
        "id": "J1KeO8VsZLdC"
      },
      "execution_count": null,
      "outputs": []
    },
    {
      "cell_type": "markdown",
      "source": [
        "5. Tampilkanlah warna tertentu pada citra, dan ubah warna lain menjadi grayscale. Misal, tampilkan warna biru pada citra masukan dan ubah bagian lain yang tidak berwarna biru menjadi grayscale seperti pada contoh berikut:"
      ],
      "metadata": {
        "id": "YvK7cgmvZEXI"
      }
    },
    {
      "cell_type": "code",
      "source": [],
      "metadata": {
        "id": "3jjXpxMMZMB0"
      },
      "execution_count": null,
      "outputs": []
    }
  ]
}